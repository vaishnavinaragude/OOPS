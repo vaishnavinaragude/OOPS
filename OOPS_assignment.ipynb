{
  "nbformat": 4,
  "nbformat_minor": 0,
  "metadata": {
    "colab": {
      "provenance": []
    },
    "kernelspec": {
      "name": "python3",
      "display_name": "Python 3"
    },
    "language_info": {
      "name": "python"
    }
  },
  "cells": [
    {
      "cell_type": "markdown",
      "source": [
        "1. What is Object-Oriented Programming (OOP) ?\n",
        "--> Object-Oriented Programming (OOP) is a programming paradigm that organizes software design around data, or \"objects,\" rather than functions and logic. Objects represent real-world entities or abstract concepts and combine data (attributes) and behavior (methods) into a single unit.\n",
        "OOP emphasizes principles like encapsulation, inheritance, polymorphism, and abstraction to create scalable, reusable, and maintainable software systems.\n",
        "\n",
        "2. What is a class in OOP ?\n",
        "--> In OOP, a class is a blueprint for creating objects. It defines attributes (data) and methods (behavior) that its objects will have. For example, a Car class might have attributes like color and methods like drive(). Objects are specific instances of a class, like a red car that can drive. Classes help organize and reuse code efficiently.\n",
        "\n",
        "3. What is an object in OOP ?\n",
        "--> Objects are the basic building blocks of OOP applications. They are created using classes, which define their structure. Once created, objects can operate independently but can interact with each other through defined interfaces.\n",
        "Here are some examples of objects:\n",
        "A person, with properties like a name and methods like walking or driving\n",
        "A circle, square, or menu in a graphics program\n",
        "A shopping cart, customer, or product in an online shopping system\n",
        "An open file\n",
        "An object that translates measurements from U.S. customary to metric\n",
        "OOP is a computer programming model that organizes software design around objects, rather than functions and logic. It can lead to shorter development durations and give firms a competitive advantage.\n",
        "\n",
        "4. What is the difference between abstraction and encapsulation.\n",
        "--> Encapsulation is the practice of bundling data and methods within a single unit, like a class, and controlling their access, whereas abstraction is about hiding complex implementation details and exposing only the essential functionalities.\n",
        "\n",
        "5. What are dunder methods in Python ?\n",
        "--> Dunder methods, also known as magic methods or special methods, are predefined methods in Python that are used to add special functionality to classes and objects. They are recognized by the double underscore format, such as __methodname__().\n",
        "Here are some examples of dunder methods:\n",
        "init: Automatically called when an object is created\n",
        "str: Allows you to use the print method on your object\n",
        "len: Works with strings, lists, and matrices\n",
        "getitem: Allows you to index objects to get values from lists\n",
        "\n",
        "6. Explain the concept of inheritance in OOP ?\n",
        "--> In object-oriented programming (OOP), inheritance is a mechanism that allows a class to inherit properties and behaviors from another class. It is a fundamental concept in OOP that promotes code reuse and establishes relationships between classes.\n",
        "\n",
        "7. What is polymorphism in OOP ?\n",
        "--> Polymorphism is a core concept in object-oriented programming (OOP) that allows objects of different types to be treated as objects of a common superclass. It enables code reusability and flexibility by allowing multiple classes to implement the same method in different ways.\n",
        "\n",
        "8. How is encapsulation achieved in Python ?\n",
        "--> In Python, encapsulation is achieved by using access modifiers to limit access to a class's methods and variables:\n",
        "Public : Attributes and methods are public by default, meaning they can be accessed from outside the class.\n",
        "Private : Attributes are prefixed with a double underscore (__) to make them private and inaccessible from outside the class.\n",
        "Protected: Attributes are prefixed with a single underscore (_) to make them protected and intended for use within the class and its subclasses.\n",
        "\n",
        "9. What is a constructor in Python ?\n",
        "--> Constructors in Python is a special class method for creating and initializing an object instance at that class. Every Python class has a constructor; it's not required to be defined explicitly. The purpose of the constructor is to construct an object and assign a value to the object's members.\n",
        "\n",
        "10.  What are class and static methods in Python ?\n",
        "--> A class method takes cls as the first parameter while a static method needs no specific parameters. A class method can access or modify the class state while a static method can't access or modify it. In general, static methods know nothing about the class state.\n",
        "\n",
        "11. What is method overloading in Python ?\n",
        "--> Method Overloading is a fundamental concept in OOP that enables a class to define multiple methods with the same name but different parameters. In Python, this powerful feature allows developers to create versatile functions capable of handling various data types.\n",
        "\n",
        "12. What is method overriding in OOP ?\n",
        "--> Method overriding, in object-oriented programming, is a language feature that allows a subclass or child class to provide a specific implementation of a method that is already provided by one of its superclasses or parent classes.\n",
        "\n",
        "13. What is a property decorator in Python ?\n",
        "--> A property decorator (@property) is used to define methods that can be accessed like attributes. It allows you to implement getters, setters, and deleters in a clean and Pythonic way, without directly exposing attributes. This is useful for encapsulation and controlling how attributes are accessed or modified.\n",
        "\n",
        "14. Why is polymorphism important in OOP ?\n",
        "--> Polymorphism is a feature of object-oriented programming languages that allows a specific routine to use variables of different types at different times. Polymorphism in programming gives a program the ability to redefine methods for derived classes.\n",
        "\n",
        "15. What is an abstract class in Python ?\n",
        "--> An abstract class in Python is typically created to declare a set of methods that must be created in any child class built on top of this abstract class. Similarly, an abstract method is one that doesn't have any implementation.\n",
        "\n",
        "16. What are the advantages of OOP ?\n",
        "--> Advantages of OOP :\n",
        "Modularity: Code is organized into classes, making it easier to manage.\n",
        "Reusability: Inheritance and polymorphism allow code to be reused across projects.\n",
        "Encapsulation: Protects data and ensures controlled access to attributes.\n",
        "Abstraction: Hides complexity and exposes only essential details.\n",
        "Scalability: Easy to extend and add new features.\n",
        "Maintainability: Cleaner and more organized code simplifies debugging and updates.\n",
        "Real-World Modeling: Intuitively represents real-world entities and interactions.\n",
        "Flexibility: Objects can adapt behaviors using polymorphism and inheritance.\n",
        "Security: Restricts unauthorized access through encapsulation.\n",
        "OOP helps create robust, reusable, and maintainable software systems.\n",
        "\n",
        "17. What is the difference between a class variable and an instance variable ?\n",
        "--> Class variables are defined within the class but outside of any class methods. Instance variables are defined within class methods, typically the constructor. Changes made to the class variable affect all instances. Changes made to the instance variable does not affect all instances.\n",
        "\n",
        "18. What is multiple inheritance in Python ?\n",
        "--> Multiple inheritance means that a subclass can inherit from two or more superclasses.If a child class inherits from more than one class, i.e. this child class is derived from multiple classes.\n",
        "\n",
        "19. Explain the purpose of \"__str__'and'__repr__\" methods in Python ?\n",
        "--> In Python, the __str__ and __repr__ methods are special methods used to define how objects of a class are represented as strings. These methods enhance the readability and debugging of objects by providing custom string representations.\n",
        "\n",
        "20. What is the significance of the ‘super()’ function in Python ?\n",
        "--> The super() function in Python is used to call methods from a parent class in a child class. It is commonly used in object-oriented programming to ensure that a child class can extend or customize the behavior of a parent class without directly referencing the parent class's name. This is especially helpful in maintaining code reusability and avoiding hardcoding parent class names.\n",
        "\n",
        "21. What is the significance of the __del__ method in Python ?\n",
        "--> __del__ is a finalizer. It is called when an object is garbage collected which happens at some point after all references to the object have been deleted. In a simple case this could be right after you say del x or, if x is a local variable, after the function ends.\n",
        "\n",
        "22. What is the difference between @staticmethod and @classmethod in Python ?\n",
        "--> @staticmethod and @classmethod are decorators used to define methods within a class that are not bound to an instance\n",
        "Difference between @staticmethod and @classmethod:\n",
        "@staticmethod:\n",
        "Does not take self or cls.\n",
        "Does not access or modify class or instance data.\n",
        "Used for utility functions related to the class but not needing class/instance data.\n",
        "@classmethod:\n",
        "Takes cls as the first parameter (the class itself).\n",
        "Can access and modify class-level data.\n",
        "Used for methods that need to work with the class, like factory methods.\n",
        "\n",
        "23. How does polymorphism work in Python with inheritance ?\n",
        "--> Polymorphism in Python refers to the ability to use a method or behavior in different forms. With inheritance, polymorphism allows a child class to define its own version of a method that is already defined in the parent class. This enables objects of different classes to be treated in a uniform way, even though their behavior might differ.\n",
        "Polymorphism with Inheritance\n",
        "Method Overriding: A child class can override a method defined in the parent class to provide its specific implementation.\n",
        "Dynamic Method Resolution: The correct method is called based on the type of the object, not the reference type.\n",
        "How It Works:\n",
        "When an object calls a method, Python first looks in the object's class. If the method is not found, it searches the parent classes (following the method resolution order, or MRO). This allows polymorphism to work, as the method resolution dynamically decides which method to call based on the actual object type.\n",
        "\n",
        "24. What is method chaining in Python OOP ?\n",
        "--> Method chaining refers to calling multiple methods sequentially on the same object in a single expression. Each method call returns an object, often the same object (modified or not), allowing the subsequent method to operate on that object.\n",
        "\n",
        "25. What is the purpose of the __call__ method in Python?\n",
        "--> The __call__ method is part of Python build-in methods also called dunder or magic methods because have two prefixes and suffix underscores in the method name. The main idea of __call__ method is to write a class and invoke it like a function."
      ],
      "metadata": {
        "id": "d1jISmJTQsj1"
      }
    },
    {
      "cell_type": "code",
      "source": [
        "#1 Create a parent class Animal with a method speak() that prints a generic message. Create a child class Dog\n",
        "#that overrides the speak() method to print \"Bark!\".\n",
        "\n",
        "# Parent class\n",
        "class Animal:\n",
        "    def speak(self):\n",
        "        print(\"The animal makes a sound.\")\n",
        "\n",
        "# Child class\n",
        "class Dog(Animal):\n",
        "    def speak(self):\n",
        "        print(\"Bark!\")\n",
        "\n",
        "# Creating objects\n",
        "animal = Animal()\n",
        "dog = Dog()\n",
        "\n",
        "# Calling the speak() method on both objects\n",
        "animal.speak()  # Output: The animal makes a sound.\n",
        "dog.speak()     # Output: Bark!\n"
      ],
      "metadata": {
        "colab": {
          "base_uri": "https://localhost:8080/"
        },
        "id": "Wg9z7YvyJzpO",
        "outputId": "f5b9c6e5-ec0d-4926-e2ea-914483bd6c5a"
      },
      "execution_count": 1,
      "outputs": [
        {
          "output_type": "stream",
          "name": "stdout",
          "text": [
            "The animal makes a sound.\n",
            "Bark!\n"
          ]
        }
      ]
    },
    {
      "cell_type": "code",
      "source": [
        "#2 Write a program to create an abstract class Shape with a method area(). Derive classes Circle and Rectangle\n",
        "#from it and implement the area() method in both.\n",
        "\n",
        "from abc import ABC, abstractmethod\n",
        "import math\n",
        "\n",
        "# Abstract class Shape\n",
        "class Shape(ABC):\n",
        "\n",
        "    @abstractmethod\n",
        "    def area(self):\n",
        "        pass\n",
        "\n",
        "# Circle class derived from Shape\n",
        "class Circle(Shape):\n",
        "    def __init__(self, radius):\n",
        "        self.radius = radius\n",
        "\n",
        "    def area(self):\n",
        "        return math.pi * self.radius ** 2\n",
        "\n",
        "# Rectangle class derived from Shape\n",
        "class Rectangle(Shape):\n",
        "    def __init__(self, length, width):\n",
        "        self.length = length\n",
        "        self.width = width\n",
        "\n",
        "    def area(self):\n",
        "        return self.length * self.width\n",
        "\n",
        "# Creating objects and calculating area\n",
        "circle = Circle(5)\n",
        "rectangle = Rectangle(4, 6)\n",
        "\n",
        "print(f\"Area of Circle: {circle.area()}\")      # Output: Area of Circle: 78.53981633974483\n",
        "print(f\"Area of Rectangle: {rectangle.area()}\")  # Output: Area of Rectangle: 24\n"
      ],
      "metadata": {
        "colab": {
          "base_uri": "https://localhost:8080/"
        },
        "id": "EDtCEKOOKCMu",
        "outputId": "f78cee50-cbed-42dc-d8b2-aa94bf8bda39"
      },
      "execution_count": 1,
      "outputs": [
        {
          "output_type": "stream",
          "name": "stdout",
          "text": [
            "Area of Circle: 78.53981633974483\n",
            "Area of Rectangle: 24\n"
          ]
        }
      ]
    },
    {
      "cell_type": "code",
      "source": [
        "#3 Implement a multi-level inheritance scenario where a class Vehicle has an attribute type. Derive a class Car\n",
        "# and further derive a class ElectricCar that adds a battery attribute.\n",
        "\n",
        "# Base class Vehicle\n",
        "class Vehicle:\n",
        "    def __init__(self, type_of_vehicle):\n",
        "        self.type = type_of_vehicle\n",
        "\n",
        "    def display_type(self):\n",
        "        print(f\"Vehicle Type: {self.type}\")\n",
        "\n",
        "# Derived class Car\n",
        "class Car(Vehicle):\n",
        "    def __init__(self, type_of_vehicle, brand):\n",
        "        super().__init__(type_of_vehicle)  # Call the parent class constructor\n",
        "        self.brand = brand\n",
        "\n",
        "    def display_brand(self):\n",
        "        print(f\"Car Brand: {self.brand}\")\n",
        "\n",
        "# Further derived class ElectricCar\n",
        "class ElectricCar(Car):\n",
        "    def __init__(self, type_of_vehicle, brand, battery_capacity):\n",
        "        super().__init__(type_of_vehicle, brand)  # Call the parent class constructor\n",
        "        self.battery_capacity = battery_capacity\n",
        "\n",
        "    def display_battery(self):\n",
        "        print(f\"Battery Capacity: {self.battery_capacity} kWh\")\n",
        "\n",
        "# Creating an object of ElectricCar\n",
        "electric_car = ElectricCar(\"Electric Vehicle\", \"Tesla\", 100)\n",
        "\n",
        "# Accessing methods from all classes\n",
        "electric_car.display_type()          # Output: Vehicle Type: Electric Vehicle\n",
        "electric_car.display_brand()         # Output: Car Brand: Tesla\n",
        "electric_car.display_battery()       # Output: Battery Capacity: 100 kWh\n"
      ],
      "metadata": {
        "colab": {
          "base_uri": "https://localhost:8080/"
        },
        "id": "rnTQCrvhofUG",
        "outputId": "a6d1142a-6054-48fc-eee9-feb5305a8ccc"
      },
      "execution_count": 2,
      "outputs": [
        {
          "output_type": "stream",
          "name": "stdout",
          "text": [
            "Vehicle Type: Electric Vehicle\n",
            "Car Brand: Tesla\n",
            "Battery Capacity: 100 kWh\n"
          ]
        }
      ]
    },
    {
      "cell_type": "code",
      "source": [
        "#4 Implement a multi-level inheritance scenario where a class Vehicle has an attribute type. Derive a class Car\n",
        "# and further derive a class ElectricCar that adds a battery attribute.\n",
        "\n",
        "# Base class Vehicle\n",
        "class Vehicle:\n",
        "    def __init__(self, vehicle_type):\n",
        "        self.vehicle_type = vehicle_type  # Type of the vehicle (e.g., Car, Truck, etc.)\n",
        "\n",
        "    def display_type(self):\n",
        "        print(f\"Vehicle Type: {self.vehicle_type}\")\n",
        "\n",
        "# Derived class Car\n",
        "class Car(Vehicle):\n",
        "    def __init__(self, vehicle_type, brand):\n",
        "        super().__init__(vehicle_type)  # Call the constructor of the parent class Vehicle\n",
        "        self.brand = brand  # Brand of the car (e.g., Tesla, Ford)\n",
        "\n",
        "    def display_brand(self):\n",
        "        print(f\"Car Brand: {self.brand}\")\n",
        "\n",
        "# Further derived class ElectricCar\n",
        "class ElectricCar(Car):\n",
        "    def __init__(self, vehicle_type, brand, battery_capacity):\n",
        "        super().__init__(vehicle_type, brand)  # Call the constructor of the parent class Car\n",
        "        self.battery_capacity = battery_capacity  # Battery capacity in kWh\n",
        "\n",
        "    def display_battery(self):\n",
        "        print(f\"Battery Capacity: {self.battery_capacity} kWh\")\n",
        "\n",
        "# Creating an object of ElectricCar\n",
        "electric_car = ElectricCar(\"Electric Vehicle\", \"Tesla\", 100)\n",
        "\n",
        "# Accessing methods from all the classes\n",
        "electric_car.display_type()        # Output: Vehicle Type: Electric Vehicle\n",
        "electric_car.display_brand()       # Output: Car Brand: Tesla\n",
        "electric_car.display_battery()     # Output: Battery Capacity: 100 kWh\n"
      ],
      "metadata": {
        "colab": {
          "base_uri": "https://localhost:8080/"
        },
        "id": "ysgsuHR1otz8",
        "outputId": "d5a86b37-7033-4650-b8f1-1e8569ff93de"
      },
      "execution_count": 3,
      "outputs": [
        {
          "output_type": "stream",
          "name": "stdout",
          "text": [
            "Vehicle Type: Electric Vehicle\n",
            "Car Brand: Tesla\n",
            "Battery Capacity: 100 kWh\n"
          ]
        }
      ]
    },
    {
      "cell_type": "code",
      "source": [
        "#5 Write a program to demonstrate encapsulation by creating a class BankAccount with private attributes\n",
        "# balance and methods to deposit, withdraw, and check balance.\n",
        "\n",
        "class BankAccount:\n",
        "    def __init__(self, initial_balance):\n",
        "        # Private attribute for balance\n",
        "        self.__balance = initial_balance\n",
        "\n",
        "    # Method to deposit money into the account\n",
        "    def deposit(self, amount):\n",
        "        if amount > 0:\n",
        "            self.__balance += amount\n",
        "            print(f\"Deposited: ${amount}\")\n",
        "        else:\n",
        "            print(\"Deposit amount must be positive.\")\n",
        "\n",
        "    # Method to withdraw money from the account\n",
        "    def withdraw(self, amount):\n",
        "        if amount > 0 and amount <= self.__balance:\n",
        "            self.__balance -= amount\n",
        "            print(f\"Withdrew: ${amount}\")\n",
        "        elif amount > self.__balance:\n",
        "            print(\"Insufficient balance.\")\n",
        "        else:\n",
        "            print(\"Withdrawal amount must be positive.\")\n",
        "\n",
        "    # Method to check the current balance\n",
        "    def check_balance(self):\n",
        "        print(f\"Current balance: ${self.__balance}\")\n",
        "\n",
        "# Creating a BankAccount object with an initial balance of 1000\n",
        "account = BankAccount(1000)\n",
        "\n",
        "# Checking the balance\n",
        "account.check_balance()  # Output: Current balance: $1000\n",
        "\n",
        "# Depositing money\n",
        "account.deposit(500)     # Outp\n"
      ],
      "metadata": {
        "colab": {
          "base_uri": "https://localhost:8080/"
        },
        "id": "ZuF9aos3pBfk",
        "outputId": "327160f2-e826-484e-c235-d389e1068aea"
      },
      "execution_count": 4,
      "outputs": [
        {
          "output_type": "stream",
          "name": "stdout",
          "text": [
            "Current balance: $1000\n",
            "Deposited: $500\n"
          ]
        }
      ]
    },
    {
      "cell_type": "code",
      "source": [
        "#5 Demonstrate runtime polymorphism using a method play() in a base class Instrument. Derive classes Guitar\n",
        "# and Piano that implement their own version of play().\n",
        "\n",
        "# Base class Instrument\n",
        "class Instrument:\n",
        "    def play(self):\n",
        "        raise NotImplementedError(\"Subclass must implement abstract method\")\n",
        "\n",
        "# Derived class Guitar\n",
        "class Guitar(Instrument):\n",
        "    def play(self):\n",
        "        print(\"Playing the guitar: Strumming the strings\")\n",
        "\n",
        "# Derived class Piano\n",
        "class Piano(Instrument):\n",
        "    def play(self):\n",
        "        print(\"Playing the piano: Pressing the keys\")\n",
        "\n",
        "# Demonstrating Runtime Polymorphism\n",
        "def perform_play(instrument: Instrument):\n",
        "    instrument.play()\n",
        "\n",
        "# Creating objects of Guitar and Piano\n",
        "guitar = Guitar()\n",
        "piano = Piano()\n",
        "\n",
        "# Calling the play() method on both objects\n",
        "perform_play(guitar)  # Output: Playing the guitar: Strumming the strings\n",
        "perform_play(piano)   # Output: Playing the piano: Pressing the keys\n"
      ],
      "metadata": {
        "colab": {
          "base_uri": "https://localhost:8080/"
        },
        "id": "y-20ZBEppPTb",
        "outputId": "8ffae613-7d1d-4410-ad40-b62122a8ef6c"
      },
      "execution_count": 5,
      "outputs": [
        {
          "output_type": "stream",
          "name": "stdout",
          "text": [
            "Playing the guitar: Strumming the strings\n",
            "Playing the piano: Pressing the keys\n"
          ]
        }
      ]
    },
    {
      "cell_type": "code",
      "source": [
        "#6 Create a class MathOperations with a class method add_numbers() to add two numbers and a static\n",
        "# method subtract_numbers() to subtract two numbers.\n",
        "class MathOperations:\n",
        "\n",
        "    @classmethod\n",
        "    def add_numbers(cls, a, b):\n",
        "        return a + b\n",
        "\n",
        "    @staticmethod\n",
        "    def subtract_numbers(a, b):\n",
        "        return a - b\n",
        "\n",
        "# Using the class method to add numbers\n",
        "result_add = MathOperations.add_numbers(10, 5)\n",
        "print(f\"Sum: {result_add}\")  # Output: Sum: 15\n",
        "\n",
        "# Using the static method to subtract numbers\n",
        "result_subtract = MathOperations.subtract_numbers(10, 5)\n",
        "print(f\"Difference: {result_subtract}\")  # Output: Difference: 5\n"
      ],
      "metadata": {
        "colab": {
          "base_uri": "https://localhost:8080/"
        },
        "id": "CF-wGC4Xpbz3",
        "outputId": "d9d97c1c-72df-4b3f-9c56-4da287ccb860"
      },
      "execution_count": 6,
      "outputs": [
        {
          "output_type": "stream",
          "name": "stdout",
          "text": [
            "Sum: 15\n",
            "Difference: 5\n"
          ]
        }
      ]
    },
    {
      "cell_type": "code",
      "source": [
        " #7 Implement a class Person with a class method to count the total number of persons created\n",
        "\n",
        " class Person:\n",
        "    # Class-level attribute to keep track of the number of persons\n",
        "    total_persons = 0\n",
        "\n",
        "    def __init__(self, name, age):\n",
        "        self.name = name\n",
        "        self.age = age\n",
        "        # Increment the count of total persons whenever a new Person object is created\n",
        "        Person.total_persons += 1\n",
        "\n",
        "    @classmethod\n",
        "    def get_total_persons(cls):\n",
        "        return cls.total_persons\n",
        "\n",
        "# Creating Person objects\n",
        "person1 = Person(\"Alice\", 30)\n",
        "person2 = Person(\"Bob\", 25)\n",
        "person3 = Person(\"Charlie\", 35)\n",
        "\n",
        "# Calling the class method to get the total number of persons created\n",
        "print(f\"Total persons created: {Person.get_total_persons()}\")  # Output: Total persons created: 3\n"
      ],
      "metadata": {
        "colab": {
          "base_uri": "https://localhost:8080/"
        },
        "id": "cf0DORycppxm",
        "outputId": "14d8a45e-dce7-4485-994d-6884b3d8b852"
      },
      "execution_count": 7,
      "outputs": [
        {
          "output_type": "stream",
          "name": "stdout",
          "text": [
            "Total persons created: 3\n"
          ]
        }
      ]
    },
    {
      "cell_type": "code",
      "source": [
        "#8 Write a class Fraction with attributes numerator and denominator. Override the str method to display the\n",
        "# fraction as \"numerator/denominator\n",
        "\n",
        "class Fraction:\n",
        "    def __init__(self, numerator, denominator):\n",
        "        self.numerator = numerator\n",
        "        self.denominator = denominator\n",
        "\n",
        "    # Overriding the __str__ method to display the fraction as \"numerator/denominator\"\n",
        "    def __str__(self):\n",
        "        return f\"{self.numerator}/{self.denominator}\"\n",
        "\n",
        "# Creating a Fraction object\n",
        "fraction1 = Fraction(3, 4)\n",
        "\n",
        "# Displaying the Fraction using the __str__ method\n",
        "print(fraction1)  # Output: 3/4\n"
      ],
      "metadata": {
        "colab": {
          "base_uri": "https://localhost:8080/"
        },
        "id": "CFh3UzHgp12v",
        "outputId": "af5c133e-061c-4575-cf7d-c2a5b38c52ec"
      },
      "execution_count": 8,
      "outputs": [
        {
          "output_type": "stream",
          "name": "stdout",
          "text": [
            "3/4\n"
          ]
        }
      ]
    },
    {
      "cell_type": "code",
      "source": [
        "#9 Demonstrate operator overloading by creating a class Vector and overriding the add method to add two vectors.\n",
        "class Vector:\n",
        "    def __init__(self, x, y):\n",
        "        self.x = x  # x-coordinate\n",
        "        self.y = y  # y-coordinate\n",
        "\n",
        "    # Overloading the + operator to add two vectors\n",
        "    def __add__(self, other):\n",
        "        # Adding the corresponding components of two vectors\n",
        "        return Vector(self.x + other.x, self.y + other.y)\n",
        "\n",
        "    # For better representation of the vector\n",
        "    def __str__(self):\n",
        "        return f\"({self.x}, {self.y})\"\n",
        "\n",
        "# Creating two Vector objects\n",
        "vector1 = Vector(3, 4)\n",
        "vector2 = Vector(1, 2)\n",
        "\n",
        "# Adding the two vectors using the overloaded + operator\n",
        "result_vector = vector1 + vector2\n",
        "\n",
        "# Displaying the result of the addition\n",
        "print(f\"Vector 1: {vector1}\")  # Output: Vector 1: (3, 4)\n",
        "print(f\"Vector 2: {vector2}\")  # Output: Vector 2: (1, 2)\n",
        "print(f\"Result of addition: {result_vector}\")  # Output: Result of addition: (4, 6)\n"
      ],
      "metadata": {
        "colab": {
          "base_uri": "https://localhost:8080/"
        },
        "id": "10ePjVeCqIEF",
        "outputId": "6da4d67b-49b8-4af8-fae4-f87f832fa75f"
      },
      "execution_count": 9,
      "outputs": [
        {
          "output_type": "stream",
          "name": "stdout",
          "text": [
            "Vector 1: (3, 4)\n",
            "Vector 2: (1, 2)\n",
            "Result of addition: (4, 6)\n"
          ]
        }
      ]
    },
    {
      "cell_type": "code",
      "source": [
        "#10 Create a class Person with attributes name and age. Add a method greet() that prints \"Hello, my name is {name} and I am {age} years old.\n",
        "\n",
        "class Person:\n",
        "    def __init__(self, name, age):\n",
        "        self.name = name  # Attribute for name\n",
        "        self.age = age    # Attribute for age\n",
        "\n",
        "    # Method to greet and display name and age\n",
        "    def greet(self):\n",
        "        print(f\"Hello, my name is {self.name} and I am {self.age} years old.\")\n",
        "\n",
        "# Creating a Person object\n",
        "person1 = Person(\"Alice\", 30)\n",
        "\n",
        "# Calling the greet method\n",
        "person1.greet()  # Output: Hello, my name is Alice and I am 30 years old.\n"
      ],
      "metadata": {
        "colab": {
          "base_uri": "https://localhost:8080/"
        },
        "id": "lG3PM3pSqUtN",
        "outputId": "0423ed31-42ed-4759-ef87-0571f38a7e80"
      },
      "execution_count": 10,
      "outputs": [
        {
          "output_type": "stream",
          "name": "stdout",
          "text": [
            "Hello, my name is Alice and I am 30 years old.\n"
          ]
        }
      ]
    },
    {
      "cell_type": "code",
      "source": [
        "#11 Implement a class Student with attributes name and grades. Create a method average_grade() to compute the average of the grades.\n",
        "\n",
        "class Student:\n",
        "    def __init__(self, name, grades):\n",
        "        self.name = name       # Attribute for the student's name\n",
        "        self.grades = grades   # Attribute for the student's grades (list of grades)\n",
        "\n",
        "    # Method to compute the average grade\n",
        "    def average_grade(self):\n",
        "        if len(self.grades) > 0:\n",
        "            return sum(self.grades) / len(self.grades)  # Calculating average\n",
        "        else:\n",
        "            return 0  # If there are no grades, return 0\n",
        "\n",
        "# Creating a Student object\n",
        "student1 = Student(\"Alice\", [85, 90, 78, 92, 88])\n",
        "\n",
        "# Calling the average_grade method to compute the average\n",
        "average = student1.average_grade()\n",
        "\n",
        "# Printing the result\n",
        "print(f\"Average grade of {student1.name}: {average:.2f}\")\n"
      ],
      "metadata": {
        "colab": {
          "base_uri": "https://localhost:8080/"
        },
        "id": "XFgjSLuSqfPX",
        "outputId": "92d951ca-386a-4a8e-890e-d100a42714a7"
      },
      "execution_count": 11,
      "outputs": [
        {
          "output_type": "stream",
          "name": "stdout",
          "text": [
            "Average grade of Alice: 86.60\n"
          ]
        }
      ]
    },
    {
      "cell_type": "code",
      "source": [
        "#12  Create a class Rectangle with methods set_dimensions() to set the dimensions and area() to calculate the area\n",
        "\n",
        "class Rectangle:\n",
        "    def __init__(self):\n",
        "        self.length = 0  # Initialize length\n",
        "        self.width = 0   # Initialize width\n",
        "\n",
        "    # Method to set the dimensions of the rectangle\n",
        "    def set_dimensions(self, length, width):\n",
        "        self.length = length\n",
        "        self.width = width\n",
        "\n",
        "    # Method to calculate the area of the rectangle\n",
        "    def area(self):\n",
        "        return self.length * self.width\n",
        "\n",
        "# Creating a Rectangle object\n",
        "rectangle1 = Rectangle()\n",
        "\n",
        "# Setting the dimensions of the rectangle\n",
        "rectangle1.set_dimensions(5, 3)\n",
        "\n",
        "# Calling the area method to calculate the area\n",
        "area = rectangle1.area()\n",
        "\n",
        "# Printing the area of the rectangle\n",
        "print(f\"Area of the rectangle: {area}\")\n"
      ],
      "metadata": {
        "colab": {
          "base_uri": "https://localhost:8080/"
        },
        "id": "0MkldYqqqqtw",
        "outputId": "873a18d0-b172-42dd-fad1-752974ba6da3"
      },
      "execution_count": 12,
      "outputs": [
        {
          "output_type": "stream",
          "name": "stdout",
          "text": [
            "Area of the rectangle: 15\n"
          ]
        }
      ]
    },
    {
      "cell_type": "code",
      "source": [
        "#13  Create a class Employee with a method calculate_salary() that computes the salary based on hours worked and hourly rate. Create a derived class Manager that adds a bonus to the salary.\n",
        "\n",
        "class Employee:\n",
        "    def __init__(self, name, hours_worked, hourly_rate):\n",
        "        self.name = name              # Employee's name\n",
        "        self.hours_worked = hours_worked  # Number of hours worked\n",
        "        self.hourly_rate = hourly_rate    # Hourly rate\n",
        "\n",
        "    # Method to calculate salary based on hours worked and hourly rate\n",
        "    def calculate_salary(self):\n",
        "        return self.hours_worked * self.hourly_rate\n",
        "\n",
        "class Manager(Employee):\n",
        "    def __init__(self, name, hours_worked, hourly_rate, bonus):\n",
        "        super().__init__(name, hours_worked, hourly_rate)  # Calling the parent class constructor\n",
        "        self.bonus = bonus  # Bonus specific to Manager\n",
        "\n",
        "    # Overriding the calculate_salary method to include the bonus\n",
        "    def calculate_salary(self):\n",
        "        base_salary = super().calculate_salary()  # Base salary from the Employee class\n",
        "        return base_salary + self.bonus  # Adding the bonus to the base salary\n",
        "\n",
        "# Creating an Employee object\n",
        "employee1 = Employee(\"John\", 40, 25)  # 40 hours worked, hourly rate 25\n",
        "employee_salary = employee1.calculate_salary()\n",
        "print(f\"Employee Salary: ${employee_salary}\")\n",
        "\n",
        "# Creating a Manager object\n",
        "manager1 = Manager(\"Alice\", 40, 30, 500)  # 40 hours worked, hourly rate 30, bonus 500\n",
        "manager_salary = manager1.calculate_salary()\n",
        "print(f\"Manager Salary (with bonus): ${manager_salary}\")\n"
      ],
      "metadata": {
        "colab": {
          "base_uri": "https://localhost:8080/"
        },
        "id": "LDKJ8j7Sq2ac",
        "outputId": "73152274-e63d-42b2-ae6e-4f86a9f583cd"
      },
      "execution_count": 13,
      "outputs": [
        {
          "output_type": "stream",
          "name": "stdout",
          "text": [
            "Employee Salary: $1000\n",
            "Manager Salary (with bonus): $1700\n"
          ]
        }
      ]
    },
    {
      "cell_type": "code",
      "source": [
        "#14  Create a class Product with attributes name, price, and quantity. Implement a method total_price() that calculates the total price of the product.\n",
        "\n",
        "class Product:\n",
        "    def __init__(self, name, price, quantity):\n",
        "        self.name = name        # Product name\n",
        "        self.price = price      # Product price per unit\n",
        "        self.quantity = quantity  # Quantity of the product\n",
        "\n",
        "    # Method to calculate the total price of the product\n",
        "    def total_price(self):\n",
        "        return self.price * self.quantity  # Total price = price per unit * quantity\n",
        "\n",
        "# Creating a Product object\n",
        "product1 = Product(\"Laptop\", 1000, 3)\n",
        "\n",
        "# Calling the total_price method to calculate the total price\n",
        "total = product1.total_price()\n",
        "\n",
        "# Printing the total price of the product\n",
        "print(f\"Total price for {product1.quantity} {product1.name}(s): ${total}\")\n"
      ],
      "metadata": {
        "colab": {
          "base_uri": "https://localhost:8080/"
        },
        "id": "mGRioCLcrF5E",
        "outputId": "5e6e93e7-5495-4c6d-978e-d60e64b91a7d"
      },
      "execution_count": 14,
      "outputs": [
        {
          "output_type": "stream",
          "name": "stdout",
          "text": [
            "Total price for 3 Laptop(s): $3000\n"
          ]
        }
      ]
    },
    {
      "cell_type": "code",
      "source": [
        "#15  Create a class Animal with an abstract method sound(). Create two derived classes Cow and Sheep that implement the sound() method\n",
        "\n",
        "from abc import ABC, abstractmethod\n",
        "\n",
        "# Abstract base class\n",
        "class Animal(ABC):\n",
        "\n",
        "    @abstractmethod\n",
        "    def sound(self):\n",
        "        pass  # Abstract method that must be implemented by subclasses\n",
        "\n",
        "# Derived class Cow\n",
        "class Cow(Animal):\n",
        "\n",
        "    def sound(self):\n",
        "        return \"Moo\"  # Implementing the sound method for Cow\n",
        "\n",
        "# Derived class Sheep\n",
        "class Sheep(Animal):\n",
        "\n",
        "    def sound(self):\n",
        "        return \"Baa\"  # Implementing the sound method for Sheep\n",
        "\n",
        "# Creating objects of Cow and Sheep\n",
        "cow = Cow()\n",
        "sheep = Sheep()\n",
        "\n",
        "# Calling the sound method\n",
        "print(f\"Cow sound: {cow.sound()}\")  # Output: Moo\n",
        "print(f\"Sheep sound: {sheep.sound()}\")  # Output: Baa\n"
      ],
      "metadata": {
        "colab": {
          "base_uri": "https://localhost:8080/"
        },
        "id": "oaECVIegrQUf",
        "outputId": "36e80595-c996-4d76-f932-64f30253a745"
      },
      "execution_count": 15,
      "outputs": [
        {
          "output_type": "stream",
          "name": "stdout",
          "text": [
            "Cow sound: Moo\n",
            "Sheep sound: Baa\n"
          ]
        }
      ]
    },
    {
      "cell_type": "code",
      "source": [
        "#16 Create a class Book with attributes title, author, and year_published. Add a method get_book_info() that returns a formatted string with the book's details\n",
        "\n",
        "class Book:\n",
        "    def __init__(self, title, author, year_published):\n",
        "        self.title = title             # Book's title\n",
        "        self.author = author           # Book's author\n",
        "        self.year_published = year_published  # Year the book was published\n",
        "\n",
        "    # Method to return a formatted string with the book's details\n",
        "    def get_book_info(self):\n",
        "        return f\"'{self.title}' by {self.author}, published in {self.year_published}\"\n",
        "\n",
        "# Creating a Book object\n",
        "book1 = Book(\"1984\", \"George Orwell\", 1949)\n",
        "\n",
        "# Calling the get_book_info method to get the book's details\n",
        "book_info = book1.get_book_info()\n",
        "\n",
        "# Printing the book's details\n",
        "print(book_info)\n"
      ],
      "metadata": {
        "colab": {
          "base_uri": "https://localhost:8080/"
        },
        "id": "vydlQ90mrdtR",
        "outputId": "9366a234-346b-45b9-98df-0c34114c01e9"
      },
      "execution_count": 16,
      "outputs": [
        {
          "output_type": "stream",
          "name": "stdout",
          "text": [
            "'1984' by George Orwell, published in 1949\n"
          ]
        }
      ]
    },
    {
      "cell_type": "code",
      "source": [
        "#17  Create a class House with attributes address and price. Create a derived class Mansion that adds an attribute number_of_rooms.\n",
        "\n",
        "class House:\n",
        "    def __init__(self, address, price):\n",
        "        self.address = address   # Address of the house\n",
        "        self.price = price       # Price of the house\n",
        "\n",
        "    # Method to display house details\n",
        "    def display_details(self):\n",
        "        return f\"Address: {self.address}, Price: ${self.price}\"\n",
        "\n",
        "# Derived class Mansion\n",
        "class Mansion(House):\n",
        "    def __init__(self, address, price, number_of_rooms):\n",
        "        super().__init__(address, price)  # Calling the parent class constructor\n",
        "        self.number_of_rooms = number_of_rooms  # Number of rooms in the mansion\n",
        "\n",
        "    # Overriding the display_details method to include number of rooms\n",
        "    def display_details(self):\n",
        "        house_details = super().display_details()  # Get details from the House class\n",
        "        return f\"{house_details}, Number of Rooms: {self.number_of_rooms}\"\n",
        "\n",
        "# Creating a House object\n",
        "house1 = House(\"123 Elm Street\", 250000)\n",
        "\n",
        "# Creating a Mansion object\n",
        "mansion1 = Mansion(\"456 Oak Avenue\", 1000000, 10)\n",
        "\n",
        "# Displaying details of the house and mansion\n",
        "print(house1.display_details())  # Output: Address: 123 Elm Street, Price: $250000\n",
        "print(mansion1.display_details())  # Output: Address: 456 Oak Avenue, Price: $1000000, Number of Rooms: 10\n"
      ],
      "metadata": {
        "colab": {
          "base_uri": "https://localhost:8080/"
        },
        "id": "yVm3isy1roSl",
        "outputId": "d8562e2e-7410-4b3e-de0d-745c39817c7b"
      },
      "execution_count": 17,
      "outputs": [
        {
          "output_type": "stream",
          "name": "stdout",
          "text": [
            "Address: 123 Elm Street, Price: $250000\n",
            "Address: 456 Oak Avenue, Price: $1000000, Number of Rooms: 10\n"
          ]
        }
      ]
    }
  ]
}